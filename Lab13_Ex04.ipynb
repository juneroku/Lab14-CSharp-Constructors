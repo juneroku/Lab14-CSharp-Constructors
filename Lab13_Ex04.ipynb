{
 "cells": [
  {
   "cell_type": "markdown",
   "metadata": {},
   "source": [
    "# Lab 13 Exercise 4\n",
    "\n"
   ]
  },
  {
   "cell_type": "markdown",
   "metadata": {},
   "source": [
    "## Constructors"
   ]
  },
  {
   "cell_type": "markdown",
   "metadata": {},
   "source": [
    "1.สร้าง console application project\n",
    "\n",
    "```cmd\n",
    "dotnet new console --name Lab13_Ex04\n",
    "```"
   ]
  },
  {
   "cell_type": "markdown",
   "metadata": {},
   "source": [
    "2.เปลี่ยน code ให้เป็นดังต่อไปนี้\n",
    "\n",
    "```csharp\n",
    "var circle = new Circle();\n",
    "var rectangle = new Rectangle();\n",
    "var triangle = new Triangle();\n",
    "\n",
    "class Shape\n",
    "{\n",
    "    private int? NumOfSide;\n",
    "    private Shape()\n",
    "    {\n",
    "        System.Console.WriteLine(\"This is some shape with unknown side\");\n",
    "    }\n",
    "    public Shape(int NumOfSide)\n",
    "    {\n",
    "        System.Console.WriteLine($\"This is some shape with {NumOfSide} sides\" );\n",
    "    }\n",
    "}\n",
    "class Circle :Shape\n",
    "{\n",
    "    public Circle():base()\n",
    "    {\n",
    "        System.Console.WriteLine(\"This is a circle\");\n",
    "    }\n",
    "}\n",
    "class Rectangle :Shape\n",
    "{\n",
    "    public Rectangle(): base(4)\n",
    "    {\n",
    "        System.Console.WriteLine(\"This is a rectangle\");\n",
    "    }\n",
    "}\n",
    "class Triangle :Shape\n",
    "{\n",
    "   public Triangle() : base(3)\n",
    "    {\n",
    "        System.Console.WriteLine(\"This is a triangle\");\n",
    "    }\n",
    "}\n",
    "```"
   ]
  },
  {
   "cell_type": "markdown",
   "metadata": {},
   "source": [
    "3.Build project โดยการใช้คำสั่ง\n",
    "\n",
    "```cmd\n",
    "dotnet build  Lab13_Ex04\n",
    "```\n",
    "\n",
    "ถ้ามีที่ผิดพลาดในโปรแกรม ให้แก้ไขให้ถูกต้อง"
   ]
  },
  {
   "cell_type": "markdown",
   "metadata": {},
   "source": [
    "4.บันทึกผลที่ได้จากการรันคำสั่งในข้อ 3"
   ]
  },
  {
   "attachments": {
    "image.png": {
     "image/png": "[encoded data removed]"
    }
   },
   "cell_type": "markdown",
   "metadata": {},
   "source": [
    "![image.png](attachment:image.png)"
   ]
  },
  {
   "cell_type": "markdown",
   "metadata": {},
   "source": [
    "5.Run project โดยการใช้คำสั่ง\n",
    "\n",
    "```cmd\n",
    "dotnet run --project Lab13_Ex04\n",
    "```"
   ]
  },
  {
   "cell_type": "markdown",
   "metadata": {},
   "source": [
    "6.บันทึกผลที่ได้จากการรันคำสั่งในข้อ 5"
   ]
  },
  {
   "attachments": {
    "image.png": {
     "image/png": "[encoded data removed]"
    }
   },
   "cell_type": "markdown",
   "metadata": {},
   "source": [
    "![image.png](attachment:image.png)"
   ]
  },
  {
   "cell_type": "markdown",
   "metadata": {},
   "source": [
    "7.อธิบายสิ่งที่พบในการทดลอง"
   ]
  },
  {
   "cell_type": "markdown",
   "metadata": {},
   "source": [
    "ได้กำหนด constructor ที่ไม่มีพารามิเตอร์ให้เป็น private ซึ่งหมายความว่าไม่สามารถสร้างออบเจ็กต์จากคลาส Shape โดยตรงได้ หรือไม่สามารถเรียกใช้ constructor นี้จากภายนอกคลาสได้เลย\n",
    "\n",
    "เมื่อใช้ private กับ constructor ที่ไม่มีพารามิเตอร์ในคลาส Shape แล้ว จะทำให้การสร้างออบเจ็กต์จากคลาส Circle, Rectangle, และ Triangle ไม่สามารถทำได้ เนื่องจาก base() ในคลาสลูกพยายามที่จะเรียก constructor ของคลาส Shape ที่ไม่มีพารามิเตอร์ แต่มันเป็น private จึงไม่สามารถเข้าถึงได้"
   ]
  }
 ],
 "metadata": {
  "kernelspec": {
   "display_name": ".NET (C#)",
   "language": "C#",
   "name": ".net-csharp"
  },
  "polyglot_notebook": {
   "kernelInfo": {
    "defaultKernelName": "csharp",
    "items": [
     {
      "aliases": [],
      "languageName": "csharp",
      "name": "csharp"
     }
    ]
   }
  }
 },
 "nbformat": 4,
 "nbformat_minor": 2
}
