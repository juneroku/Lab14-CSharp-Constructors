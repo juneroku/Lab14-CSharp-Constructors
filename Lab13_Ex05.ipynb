{
 "cells": [
  {
   "cell_type": "markdown",
   "metadata": {},
   "source": [
    "# Lab 13 Exercise 5\n",
    "\n"
   ]
  },
  {
   "cell_type": "markdown",
   "metadata": {},
   "source": [
    "## Constructors"
   ]
  },
  {
   "cell_type": "markdown",
   "metadata": {},
   "source": [
    "1.สร้าง console application project\n",
    "\n",
    "```cmd\n",
    "dotnet new console --name Lab13_Ex05\n",
    "```"
   ]
  },
  {
   "cell_type": "markdown",
   "metadata": {},
   "source": [
    "2.เปลี่ยน code ให้เป็นดังต่อไปนี้\n",
    "\n",
    "```csharp\n",
    "var circle = new Circle();\n",
    "var rectangle = new Rectangle();\n",
    "var triangle = new Triangle();\n",
    "\n",
    "class Shape\n",
    "{\n",
    "    private int? NumOfSide;\n",
    "    private Shape()\n",
    "    {\n",
    "    }\n",
    "    public Shape(int NumOfSide) : this()\n",
    "    {\n",
    "       this.NumOfSide = NumOfSide;\n",
    "        System.Console.WriteLine($\"This is some shape with {NumOfSide} sides\" );\n",
    "    }\n",
    "}\n",
    "class Circle :Shape\n",
    "{\n",
    "    public Circle():base(0)\n",
    "    {\n",
    "        System.Console.WriteLine(\"This is a circle\");\n",
    "    }\n",
    "}\n",
    "class Rectangle :Shape\n",
    "{\n",
    "    public Rectangle(): base(4)\n",
    "    {\n",
    "        System.Console.WriteLine(\"This is a rectangle\");\n",
    "    }\n",
    "}\n",
    "class Triangle :Shape\n",
    "{\n",
    "   public Triangle() : base( ) // Hint: add number of size as parameters\n",
    "    {\n",
    "        System.Console.WriteLine(\"This is a triangle\");\n",
    "    }\n",
    "}\n",
    "```"
   ]
  },
  {
   "cell_type": "markdown",
   "metadata": {},
   "source": [
    "3.Build project โดยการใช้คำสั่ง\n",
    "\n",
    "```cmd\n",
    "dotnet build  Lab13_Ex05\n",
    "```\n",
    "\n",
    "ถ้ามีที่ผิดพลาดในโปรแกรม ให้แก้ไขให้ถูกต้อง"
   ]
  },
  {
   "cell_type": "markdown",
   "metadata": {},
   "source": [
    "4.บันทึกผลที่ได้จากการรันคำสั่งในข้อ 3"
   ]
  },
  {
   "attachments": {
    "image.png": {
     "image/png": "[encoded data removed]"
    }
   },
   "cell_type": "markdown",
   "metadata": {},
   "source": [
    "![image.png](attachment:image.png)"
   ]
  },
  {
   "cell_type": "markdown",
   "metadata": {},
   "source": [
    "5.Run project โดยการใช้คำสั่ง\n",
    "\n",
    "```cmd\n",
    "dotnet run --project Lab13_Ex05\n",
    "```"
   ]
  },
  {
   "cell_type": "markdown",
   "metadata": {},
   "source": [
    "6.บันทึกผลที่ได้จากการรันคำสั่งในข้อ 5"
   ]
  },
  {
   "attachments": {
    "image.png": {
     "image/png": "[encoded data removed]"
    }
   },
   "cell_type": "markdown",
   "metadata": {},
   "source": [
    "![image.png](attachment:image.png)"
   ]
  },
  {
   "cell_type": "markdown",
   "metadata": {},
   "source": [
    "7.อธิบายสิ่งที่พบในการทดลอง"
   ]
  },
  {
   "cell_type": "markdown",
   "metadata": {},
   "source": [
    "สร้างคลาสต่าง ๆ เช่น Shape, Circle, Rectangle, และ Triangle โดยใช้การสืบทอด (inheritance) และใช้ constructor ในการกำหนดคุณสมบัติให้กับรูปร่างต่าง ๆ เช่น จำนวนขอบ (NumOfSide) ที่แตกต่างกันไปในแต่ละคลาส"
   ]
  }
 ],
 "metadata": {
  "kernelspec": {
   "display_name": ".NET (C#)",
   "language": "C#",
   "name": ".net-csharp"
  },
  "polyglot_notebook": {
   "kernelInfo": {
    "defaultKernelName": "csharp",
    "items": [
     {
      "aliases": [],
      "languageName": "csharp",
      "name": "csharp"
     }
    ]
   }
  }
 },
 "nbformat": 4,
 "nbformat_minor": 2
}
